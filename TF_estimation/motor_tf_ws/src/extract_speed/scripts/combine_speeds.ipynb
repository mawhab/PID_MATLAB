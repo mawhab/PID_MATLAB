{
 "cells": [
  {
   "cell_type": "code",
   "execution_count": 7,
   "metadata": {},
   "outputs": [],
   "source": [
    "%matplotlib inline\n",
    "\n",
    "import pandas as pd\n",
    "import os\n",
    "import matplotlib.pyplot as plt\n",
    "import csv\n",
    "\n",
    "pathToData = f\"{os.path.expanduser('~')}/motor_data/\"\n",
    "folderName = \"m1645446655.4578934\"\n",
    "folderPath = f\"{pathToData}/{folderName}\""
   ]
  },
  {
   "cell_type": "code",
   "execution_count": null,
   "metadata": {},
   "outputs": [],
   "source": [
    "df = pd.read_csv(f\"{folderPath}.csv\", header=None, names=['time', 'input', 'counts', 'speed'])\n",
    "\n",
    "df.head()"
   ]
  },
  {
   "cell_type": "code",
   "execution_count": null,
   "metadata": {},
   "outputs": [],
   "source": [
    "start_idx = df[df['input'] != 0].first_valid_index()\n",
    "final_idx = df[df['counts'] == df['counts'].iloc[-1]].first_valid_index() + 5\n",
    "\n",
    "df2 = df.iloc[start_idx:final_idx]\n",
    "df2['time_0'] = df2['time'] - df2['time'].iloc[0]\n",
    "\n",
    "df2['speed'].plot()"
   ]
  },
  {
   "cell_type": "code",
   "execution_count": null,
   "metadata": {},
   "outputs": [],
   "source": [
    "df2['time'] = df2['time_0']\n",
    "df2.drop(columns=['time_0'], inplace=True)\n",
    "\n",
    "df2.head()"
   ]
  },
  {
   "cell_type": "code",
   "execution_count": null,
   "metadata": {},
   "outputs": [],
   "source": [
    "df3 = df2.set_index(pd.to_datetime(df2['time'], unit='ms'))\n",
    "\n",
    "df3.head()"
   ]
  },
  {
   "cell_type": "code",
   "execution_count": null,
   "metadata": {},
   "outputs": [],
   "source": [
    "df3['diff_counts'] = (df3['counts'].shift(-1) - df3['counts']) / (df3['time'].shift(-1) - df3['time'])\n",
    "df3.head()"
   ]
  },
  {
   "cell_type": "code",
   "execution_count": null,
   "metadata": {},
   "outputs": [],
   "source": [
    "df3['diff_counts'].plot()\n",
    "plt.show()"
   ]
  },
  {
   "cell_type": "code",
   "execution_count": 81,
   "metadata": {},
   "outputs": [],
   "source": [
    "df3.to_csv(f\"{pathToData}/cleaned/{folderName}.csv\")"
   ]
  },
  {
   "cell_type": "markdown",
   "metadata": {},
   "source": [
    "## One cell all - DC"
   ]
  },
  {
   "cell_type": "code",
   "execution_count": null,
   "metadata": {},
   "outputs": [],
   "source": [
    "%matplotlib inline\n",
    "\n",
    "import pandas as pd\n",
    "import os\n",
    "import matplotlib.pyplot as plt\n",
    "import csv\n",
    "\n",
    "pathToData = f\"{os.path.expanduser('~')}/motor_data\"\n",
    "files = os.listdir(pathToData)\n",
    "os.mkdir(f\"{pathToData}/cleaned\")\n",
    "for file in files:\n",
    "    # print(f\"Processing: {file}\")\n",
    "    if not file.endswith('.csv'):\n",
    "        continue\n",
    "    df = pd.read_csv(f\"{pathToData}/{file}\", header=None, names=['time', 'input', 'counts', 'speed'])\n",
    "    start_idx = df[df['input'] != 0].first_valid_index()\n",
    "    final_idx = df[df['counts'] == df['counts'].iloc[-1]].first_valid_index() + 10\n",
    "    df2 = df.iloc[start_idx:final_idx]\n",
    "    df2['time'] = df2['time'] - df2['time'].iloc[0]\n",
    "    # df2.loc[:, 'counts'] *= -1\n",
    "    df2.loc[:, 'diff_counts'] = (df2.loc[:, 'counts'].shift(-1) - df2.loc[:, 'counts']) / (df2.loc[:, 'time'].shift(-1) - df2.loc[:, 'time'])\n",
    "    df2 = df2.iloc[:-1]\n",
    "\n",
    "    df3 = df2.set_index(pd.to_datetime(df2['time'], unit='ms'))\n",
    "    df3.to_csv(f\"{pathToData}/cleaned/{file}\")\n",
    "    df3['diff_counts'].plot()\n",
    "    plt.show()\n"
   ]
  },
  {
   "cell_type": "markdown",
   "metadata": {},
   "source": [
    "# One cell all - Brushless"
   ]
  },
  {
   "cell_type": "code",
   "execution_count": null,
   "metadata": {},
   "outputs": [],
   "source": [
    "%matplotlib inline\n",
    "\n",
    "import pandas as pd\n",
    "import os\n",
    "import matplotlib.pyplot as plt\n",
    "import csv\n",
    "\n",
    "pathToData = f\"{os.path.expanduser('~')}/motor_data\"\n",
    "folderName = \"BL5ms\"\n",
    "folderPath = f\"{pathToData}/{folderName}\"\n",
    "files = os.listdir(folderPath)\n",
    "os.mkdir(f\"{folderPath}/cleaned\")\n",
    "for file in files:\n",
    "    # print(f\"Processing: {file}\")\n",
    "    if not file.endswith('.csv'):\n",
    "        continue\n",
    "    df = pd.read_csv(f\"{folderPath}/{file}\", header=None, names=['time', 'input', 'output'])\n",
    "    start_idx = df[df['input'] != 0].first_valid_index()\n",
    "    final_idx = df[df['output'] == df['output'].iloc[-1]].first_valid_index() + 10\n",
    "    \n",
    "    df2 = df.iloc[start_idx:final_idx]\n",
    "    df2.loc[:, 'time'] = df2['time'] - df2['time'].iloc[0]\n",
    "    df2.loc[:, 'output'] *= -1\n",
    "    df2.loc[:, 'diff_output'] = (df2.loc[:, 'output'].shift(-1) - df2.loc[:, 'output']) / (df2.loc[:, 'time'].shift(-1) - df2.loc[:, 'time'])\n",
    "\n",
    "    df3 = df2.set_index(pd.to_datetime(df2['time'], unit='ms'))\n",
    "    df3.to_csv(f\"{folderPath}/cleaned/{file}\")\n",
    "    df3['diff_output'].plot()\n",
    "    plt.show()"
   ]
  },
  {
   "cell_type": "code",
   "execution_count": 2,
   "metadata": {},
   "outputs": [
    {
     "data": {
      "text/plain": [
       "['extract_speed.py', 'combine_speeds.ipynb']"
      ]
     },
     "execution_count": 2,
     "metadata": {},
     "output_type": "execute_result"
    }
   ],
   "source": [
    "os.listdir()"
   ]
  }
 ],
 "metadata": {
  "interpreter": {
   "hash": "767d51c1340bd893661ea55ea3124f6de3c7a262a8b4abca0554b478b1e2ff90"
  },
  "kernelspec": {
   "display_name": "Python 3.8.10 64-bit",
   "name": "python3"
  },
  "language_info": {
   "codemirror_mode": {
    "name": "ipython",
    "version": 3
   },
   "file_extension": ".py",
   "mimetype": "text/x-python",
   "name": "python",
   "nbconvert_exporter": "python",
   "pygments_lexer": "ipython3",
   "version": "3.9.7"
  },
  "orig_nbformat": 2
 },
 "nbformat": 4,
 "nbformat_minor": 2
}
